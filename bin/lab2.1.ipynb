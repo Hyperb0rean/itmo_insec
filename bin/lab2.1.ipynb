{
 "cells": [
  {
   "cell_type": "code",
   "execution_count": 1,
   "metadata": {},
   "outputs": [],
   "source": [
    "import math\n",
    "from functools import wraps"
   ]
  },
  {
   "cell_type": "code",
   "execution_count": 2,
   "metadata": {},
   "outputs": [],
   "source": [
    "N = 81177745546021\n",
    "e = 2711039\n",
    "C = '''\n",
    "61553353723258\n",
    "11339642237403\n",
    "55951185642146\n",
    "38561524032018\n",
    "34517298669793\n",
    "33641624424571\n",
    "78428225355946\n",
    "50176820404544\n",
    "68017840453091\n",
    "5507834749606\n",
    "26675763943141\n",
    "47457759065088\n",
    "'''"
   ]
  },
  {
   "cell_type": "code",
   "execution_count": 5,
   "metadata": {},
   "outputs": [],
   "source": [
    "def memoize(func):\n",
    "    cache = {}\n",
    "    \n",
    "    @wraps(func)\n",
    "    def wrapper(*args):\n",
    "        if args not in cache:\n",
    "            cache[args] = func(*args)\n",
    "        return cache[args]\n",
    "    \n",
    "    return wrapper\n",
    "\n",
    "@memoize\n",
    "def find_sqrt_w(n, N, i=0):\n",
    "    i += 1\n",
    "    t = n + i\n",
    "    w = t ** 2 - N\n",
    "    \n",
    "    if w < 0:\n",
    "        return None\n",
    "    \n",
    "    sqrt_w = math.sqrt(w)\n",
    "    \n",
    "    if sqrt_w % 1 == 0:\n",
    "        return (t, int(sqrt_w))\n",
    "    else:\n",
    "        return find_sqrt_w(n, N, i)\n",
    "\n",
    "\n",
    "def decrypt(N, e, C):\n",
    "    message = \"\"\n",
    "\n",
    "    n = int(math.sqrt(N) // 1 + 1)\n",
    "    print(f\"n = [sqrt(N)] + 1 = {n}\")\n",
    "\n",
    "    t, sqrt_w = find_sqrt_w(n, N)\n",
    "    p = t + sqrt_w\n",
    "    q = t - sqrt_w\n",
    "    phi = round((p - 1) * (q - 1))\n",
    "    d = pow(e, -1, phi)\n",
    "\n",
    "    print(f\"p = t + sqrt(w) = {t} + {sqrt_w} = {p}\")\n",
    "    print(f\"q = t - sqrt(w) = {t} - {sqrt_w} = {q}\")\n",
    "    print(f\"Phi(N) = (p - 1) * (q - 1) = ({p - 1}) * ({q - 1}) = {phi}\")\n",
    "    print(f\"d = e^(-1) mod Phi(N) = {e}^(-1) mod {phi} = {d}\", \"\\n\")\n",
    "\n",
    "    for i, c in enumerate(C.split()):\n",
    "        m = pow(int(c), d, N)\n",
    "        part = m.to_bytes(4, byteorder='big').decode('cp1251')\n",
    "        message += part\n",
    "    print(f\"message = {message}\")"
   ]
  },
  {
   "cell_type": "code",
   "execution_count": null,
   "metadata": {},
   "outputs": [],
   "source": [
    "decrypt(N, e, C)"
   ]
  }
 ],
 "metadata": {
  "kernelspec": {
   "display_name": "itmo_insec",
   "language": "python",
   "name": "python3"
  },
  "language_info": {
   "codemirror_mode": {
    "name": "ipython",
    "version": 3
   },
   "file_extension": ".py",
   "mimetype": "text/x-python",
   "name": "python",
   "nbconvert_exporter": "python",
   "pygments_lexer": "ipython3",
   "version": "3.10.12"
  }
 },
 "nbformat": 4,
 "nbformat_minor": 2
}
