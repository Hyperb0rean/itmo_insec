{
 "cells": [
  {
   "cell_type": "code",
   "execution_count": 1,
   "metadata": {},
   "outputs": [],
   "source": [
    "from decimal import Decimal"
   ]
  },
  {
   "cell_type": "code",
   "execution_count": 2,
   "metadata": {},
   "outputs": [],
   "source": [
    "\n",
    "N1 = 441716293693\n",
    "N2 = 442258294987\n",
    "N3 = 444399387571\n",
    "\n",
    "C1 = '''\n",
    "324500796659\n",
    "324547036186\n",
    "367901833181\n",
    "38558700097\n",
    "401956144715\n",
    "260421328704\n",
    "356041474179\n",
    "113539876955\n",
    "304515179769\n",
    "302662240842\n",
    "282367185538\n",
    "432213853716\n",
    "'''\n",
    "\n",
    "C2 = '''\n",
    "364411844182\n",
    "137247785047\n",
    "389030356498\n",
    "293766643714\n",
    "259139396276\n",
    "429702138150\n",
    "17968702271\n",
    "84037113464\n",
    "91988591941\n",
    "425057692992\n",
    "391906969363\n",
    "244207991747\n",
    "'''\n",
    "\n",
    "C3 = '''\n",
    "57065247639\n",
    "130359065508\n",
    "391859459727\n",
    "128196485994\n",
    "412050631244\n",
    "367300386309\n",
    "83703862830\n",
    "218100297714\n",
    "10243576841\n",
    "232358719915\n",
    "412546535924\n",
    "398872645339\n",
    "'''"
   ]
  },
  {
   "cell_type": "code",
   "execution_count": 5,
   "metadata": {},
   "outputs": [],
   "source": [
    "def ctor_solver(N1, N2, N3, C1, C2, C3):\n",
    "    c1 = list(map(int, C1.split()))\n",
    "    c2 = list(map(int, C2.split()))\n",
    "    c3 = list(map(int, C3.split()))\n",
    "    message = \"\"\n",
    "\n",
    "    M0 = N1 * N2 * N3\n",
    "    m1 = N2 * N3\n",
    "    m2 = N1 * N3\n",
    "    m3 = N1 * N2\n",
    "    n1 = pow(m1, -1, N1)\n",
    "    n2 = pow(m2, -1, N2)\n",
    "    n3 = pow(m3, -1, N3)\n",
    "\n",
    "    print(f\"M0 = N1 * N2 * N3 = {N1} * {N2} * {N3} = {M0}\", \"\\n\")\n",
    "    print(f\"m1 = N2 * N3 = {N2} * {N3} = {m1}\")\n",
    "    print(f\"m2 = N1 * N3 = {N1} * {N3} = {m2}\")\n",
    "    print(f\"m3 = N1 * N2 = {N1} * {N2} = {m3}\", \"\\n\")\n",
    "    print(f\"n1 = m1^(-1) mod N1 = {m1}^(-1) mod {N1} = {n1}\")\n",
    "    print(f\"n2 = m2^(-1) mod N2 = {m2}^(-1) mod {N2} = {n2}\")\n",
    "    print(f\"n3 = m3^(-1) mod N3 = {m3}^(-1) mod {N3} = {n3}\", \"\\n\")\n",
    "\n",
    "    for i in range(len(c1)):\n",
    "        S = (c1[i] * n1 * m1) + (c2[i] * n2 * m2) + (c3[i] * n3 * m3)\n",
    "        SmodM0 = S % M0\n",
    "        M = round(SmodM0 ** (Decimal(1 / 3)))\n",
    "        part = M.to_bytes(4, byteorder='big').decode('cp1251')\n",
    "        message += part\n",
    "    print(f\"message = {message}\")"
   ]
  },
  {
   "cell_type": "code",
   "execution_count": null,
   "metadata": {},
   "outputs": [],
   "source": [
    "ctor_solver(N1, N2, N3, C1, C2, C3)"
   ]
  }
 ],
 "metadata": {
  "kernelspec": {
   "display_name": "itmo_insec",
   "language": "python",
   "name": "python3"
  },
  "language_info": {
   "codemirror_mode": {
    "name": "ipython",
    "version": 3
   },
   "file_extension": ".py",
   "mimetype": "text/x-python",
   "name": "python",
   "nbconvert_exporter": "python",
   "pygments_lexer": "ipython3",
   "version": "3.10.12"
  }
 },
 "nbformat": 4,
 "nbformat_minor": 2
}
