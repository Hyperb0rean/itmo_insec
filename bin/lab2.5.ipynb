{
  "cells": [
    {
      "cell_type": "code",
      "execution_count": 2,
      "metadata": {
        "id": "Dp1OjsX_akPf"
      },
      "outputs": [],
      "source": [
        "from typing import NamedTuple, TypeVar, Generic\n",
        "from sympy import isprime, FiniteField, GF"
      ]
    },
    {
      "cell_type": "code",
      "execution_count": 5,
      "metadata": {
        "id": "WMDxvj-QUeuG"
      },
      "outputs": [],
      "source": [
        "F = GF(mod = 751)\n",
        "P: int = F.mod\n",
        "\n",
        "class Point(NamedTuple):\n",
        "  x: F\n",
        "  y: F\n",
        "\n",
        "  def __repr__(self) -> str:\n",
        "    return f\"({int(self.x)}, {int(self.y)}) mod {self.x.mod}\"\n",
        "\n",
        "\n",
        "class EllipticCurve(NamedTuple):\n",
        "  a: F\n",
        "  b: F\n",
        "\n",
        "  def add(self, lhs: Point, rhs: Point) -> Point:\n",
        "    (x1, y1), (x2, y2) = lhs, rhs\n",
        "\n",
        "    lmbd = (\n",
        "        (y2 - y1) / (x2 - x1) if x1 != x2\n",
        "        else (3 * x1 ** 2 + self.a) / (2 * y1)\n",
        "    )\n",
        "    assert 0 <= int(lmbd) < P\n",
        "\n",
        "    x3 = lmbd ** 2 - x1 - x2\n",
        "    y3 = lmbd * (x1 - x3) - y1\n",
        "\n",
        "    return Point(x3, y3)\n",
        "\n",
        "  def rev(self, point: Point) -> Point:\n",
        "    return Point(point.x, -point.y)\n",
        "\n",
        "  def sub(self, lhs: Point, rhs: Point) -> Point:\n",
        "    return self.add(lhs, self.rev(rhs))\n",
        "\n",
        "  def pow(self, point: Point, n: int) -> Point:\n",
        "    assert 0 < n\n",
        "    return point if n == 1 else self.add(point, self.pow(point, n - 1))\n",
        "\n",
        "  def __contains__(self, point: Point) -> bool:\n",
        "    a, b = self\n",
        "    x, y = point\n",
        "    return y ** 2 == x ** 3 + a * x + b\n",
        "\n",
        "class Chiper(NamedTuple):\n",
        "  c1: Point\n",
        "  c2: Point\n",
        "\n",
        "  def __repr__(self) -> str:\n",
        "    return f\"({self.c1}, {self.c2})\""
      ]
    },
    {
      "cell_type": "code",
      "execution_count": 20,
      "metadata": {
        "id": "Zw2yJGSbUSJC"
      },
      "outputs": [],
      "source": [
        "E = EllipticCurve(a = F(-1), b = F(1))\n",
        "\n",
        "(a, b) = E\n",
        "assert isprime(P) and P not in (2, 3)\n",
        "assert 4 * a ** 3 + 27 * b ** 2 != 0\n",
        "\n",
        "M2P = {\n",
        "    \"р\": Point(F(243), F(87)),\n",
        "    \"е\": Point(F(234), F(587)),\n",
        "    \"п\": Point(F(240), F(442)),\n",
        "    \"а\": Point(F(228), F(271)),\n",
        "    \"ц\": Point(F(250), F(14)),\n",
        "    \"и\": Point(F(236), F(39)),\n",
        "    \"я\": Point(F(257), F(458)),\n",
        "}\n",
        "\n",
        "P2M = { point: ch for ch, point in M2P.items() }\n",
        "\n",
        "for _, point in M2P.items():\n",
        "  assert point in E\n",
        "\n",
        "\n",
        "M =\"репарация\"\n",
        "PUB = Point ( F (16) , F (416) ) ; assert PUB in E\n",
        "K =[2 , 8 , 4 , 2 , 6 , 10 , 3 , 3 , 18]\n",
        "G = Point ( F (0) , F (1) ) "
      ]
    },
    {
      "cell_type": "code",
      "execution_count": 7,
      "metadata": {
        "id": "By18t6LSjClk"
      },
      "outputs": [],
      "source": [
        "assert E.pow(G, 3) == Point(56, 419)"
      ]
    },
    {
      "cell_type": "code",
      "execution_count": 8,
      "metadata": {
        "id": "gK17ybyPUu0v"
      },
      "outputs": [],
      "source": [
        "def encrypt_atom(ch: str, k: int) -> Chiper:\n",
        "  assert len(ch) == 1\n",
        "\n",
        "  c1 = E.pow(G, k)\n",
        "  c2 = E.add(M2P[ch], E.pow(PUB, k))\n",
        "  return Chiper(c1, c2)"
      ]
    },
    {
      "cell_type": "code",
      "execution_count": 9,
      "metadata": {
        "id": "IVL9vUfWhScJ"
      },
      "outputs": [],
      "source": [
        "def decrypt_atom(chiper: Chiper) -> str:\n",
        "  (c1, c2) = chiper\n",
        "  return P2M[E.sub(c2, E.pow(c1, SEC))]"
      ]
    },
    {
      "cell_type": "code",
      "execution_count": 10,
      "metadata": {
        "id": "NTkYCI-LkAQr"
      },
      "outputs": [],
      "source": [
        "def encrypt(text: str, k: list[int]) -> list[Chiper]:\n",
        "  return [encrypt_atom(ch, k[i]) for i, ch in enumerate(text)]\n",
        "\n",
        "def decrypt(chiper: list[Chiper]) -> str:\n",
        "  return ''.join(map(decrypt_atom, chiper))"
      ]
    },
    {
      "cell_type": "code",
      "execution_count": null,
      "metadata": {
        "colab": {
          "base_uri": "https://localhost:8080/",
          "height": 35
        },
        "id": "hAY6ALJFlH2q",
        "outputId": "b71e7b9a-ef63-4207-c1be-5d16a7872c72"
      },
      "outputs": [],
      "source": [
        "print ( \" \\n \" . join ( repr ( _ ) for _ in encrypt (M , K) ) )"
      ]
    },
    {
      "cell_type": "code",
      "execution_count": null,
      "metadata": {
        "id": "qMq4AKRLHc-9"
      },
      "outputs": [],
      "source": []
    }
  ],
  "metadata": {
    "colab": {
      "provenance": [],
      "toc_visible": true
    },
    "kernelspec": {
      "display_name": "itmo_insec",
      "language": "python",
      "name": "python3"
    },
    "language_info": {
      "codemirror_mode": {
        "name": "ipython",
        "version": 3
      },
      "file_extension": ".py",
      "mimetype": "text/x-python",
      "name": "python",
      "nbconvert_exporter": "python",
      "pygments_lexer": "ipython3",
      "version": "3.10.12"
    }
  },
  "nbformat": 4,
  "nbformat_minor": 0
}
